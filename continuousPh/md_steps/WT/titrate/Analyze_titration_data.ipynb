{
 "cells": [
  {
   "cell_type": "code",
   "execution_count": 2,
   "metadata": {},
   "outputs": [],
   "source": [
    "import numpy as np\n",
    "import scipy as sp\n",
    "import pandas as pd\n",
    "import pytraj as pt\n",
    "import nglview as nv\n",
    "\n",
    "import matplotlib\n",
    "from matplotlib import pyplot as plt\n",
    "\n",
    "import cphmdanalysis as cphmda"
   ]
  },
  {
   "cell_type": "code",
   "execution_count": 55,
   "metadata": {},
   "outputs": [
    {
     "name": "stdout",
     "output_type": "stream",
     "text": [
      "Total Number of Residues:  95 \n",
      "Number of succesfully titrated residues:  68 \n",
      "Number of unsuccesfully titrated residues:  27\n"
     ]
    },
    {
     "data": {
      "text/html": [
       "<div>\n",
       "<style scoped>\n",
       "    .dataframe tbody tr th:only-of-type {\n",
       "        vertical-align: middle;\n",
       "    }\n",
       "\n",
       "    .dataframe tbody tr th {\n",
       "        vertical-align: top;\n",
       "    }\n",
       "\n",
       "    .dataframe thead th {\n",
       "        text-align: right;\n",
       "    }\n",
       "</style>\n",
       "<table border=\"1\" class=\"dataframe\">\n",
       "  <thead>\n",
       "    <tr style=\"text-align: right;\">\n",
       "      <th></th>\n",
       "      <th>ResName</th>\n",
       "      <th>Resid</th>\n",
       "      <th>pKa</th>\n",
       "      <th>Hill_Coef</th>\n",
       "    </tr>\n",
       "  </thead>\n",
       "  <tbody>\n",
       "    <tr>\n",
       "      <th>0</th>\n",
       "      <td>AS2</td>\n",
       "      <td>6</td>\n",
       "      <td>2.526</td>\n",
       "      <td>1.152</td>\n",
       "    </tr>\n",
       "    <tr>\n",
       "      <th>1</th>\n",
       "      <td>AS2</td>\n",
       "      <td>11</td>\n",
       "      <td>3.224</td>\n",
       "      <td>0.534</td>\n",
       "    </tr>\n",
       "    <tr>\n",
       "      <th>2</th>\n",
       "      <td>AS2</td>\n",
       "      <td>14</td>\n",
       "      <td>3.842</td>\n",
       "      <td>1.762</td>\n",
       "    </tr>\n",
       "    <tr>\n",
       "      <th>3</th>\n",
       "      <td>HIP</td>\n",
       "      <td>15</td>\n",
       "      <td>6.672</td>\n",
       "      <td>0.804</td>\n",
       "    </tr>\n",
       "    <tr>\n",
       "      <th>4</th>\n",
       "      <td>CYS</td>\n",
       "      <td>17</td>\n",
       "      <td>10.587</td>\n",
       "      <td>0.401</td>\n",
       "    </tr>\n",
       "  </tbody>\n",
       "</table>\n",
       "</div>"
      ],
      "text/plain": [
       "  ResName  Resid     pKa Hill_Coef\n",
       "0     AS2      6   2.526     1.152\n",
       "1     AS2     11   3.224     0.534\n",
       "2     AS2     14   3.842     1.762\n",
       "3     HIP     15   6.672     0.804\n",
       "4     CYS     17  10.587     0.401"
      ]
     },
     "execution_count": 55,
     "metadata": {},
     "output_type": "execute_result"
    }
   ],
   "source": [
    "nRuns=1\n",
    "sysName='WT'\n",
    "with open('pH_List.txt','r') as pHlistFile:\n",
    "    rep_pH_vals=list(map(float,pHlistFile.readline().split(', ')))\n",
    "phList=rep_pH_vals*nRuns\n",
    "nReps=len(rep_pH_vals)\n",
    "lambdaFileNames=['%s.rep%02g.%02g.lambda'%(sysName,irep+1,irun+1) \\\n",
    "                 for irun in np.arange(nRuns) \\\n",
    "                 for irep in np.arange(len(rep_pH_vals))]\n",
    "lambdaFiles=[cphmda.lambda_file(filename) for filename in lambdaFileNames]\n",
    "\n",
    "for lambda_file in lambdaFiles:\n",
    "    lambda_file.compute_s_values()\n",
    "\n",
    "pka_data=cphmda.compute_pkas(phList,lambdaFiles) #wrapped_lambda_files)\n",
    "\n",
    "tempStruc=pt.load('%s.min.rst7'%sysName,top='%s.parm7'%sysName)\n",
    "pKaTable=pd.DataFrame([(tempStruc.top.residue(res-1).name,\n",
    " (tempStruc.top.residue(res-1)).original_resid,\n",
    "  \"%.3f\"%(\n",
    "      pka_data[ires][2]),\n",
    "  \"%.3f\"%(\n",
    "      pka_data[ires][0])) for ires,res in enumerate(lambdaFiles[0].titrreses)],\n",
    "            columns=['ResName','Resid','pKa','Hill_Coef'])\n",
    "pKaTable.to_csv('pKa_DataTable.csv',index=False)\n",
    "goodRows=np.sum((pKaTable.pKa!='nan'))\n",
    "totalRows=pKaTable.shape[0]\n",
    "print('Total Number of Residues: ',\n",
    "      totalRows,\n",
    "      '\\nNumber of succesfully titrated residues: ',\n",
    "      goodRows,\n",
    "      '\\nNumber of unsuccesfully titrated residues: ',\n",
    "      totalRows-goodRows)\n",
    "pKaTable.head()"
   ]
  },
  {
   "cell_type": "code",
   "execution_count": null,
   "metadata": {},
   "outputs": [],
   "source": []
  }
 ],
 "metadata": {
  "kernelspec": {
   "display_name": "Python 3",
   "language": "python",
   "name": "python3"
  },
  "language_info": {
   "codemirror_mode": {
    "name": "ipython",
    "version": 3
   },
   "file_extension": ".py",
   "mimetype": "text/x-python",
   "name": "python",
   "nbconvert_exporter": "python",
   "pygments_lexer": "ipython3",
   "version": "3.7.3"
  }
 },
 "nbformat": 4,
 "nbformat_minor": 2
}
