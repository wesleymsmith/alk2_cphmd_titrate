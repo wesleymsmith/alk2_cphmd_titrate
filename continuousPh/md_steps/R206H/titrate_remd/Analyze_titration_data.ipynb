{
 "cells": [
  {
   "cell_type": "code",
   "execution_count": 11,
   "metadata": {},
   "outputs": [],
   "source": [
    "import numpy as np\n",
    "import scipy as sp\n",
    "import pandas as pd\n",
    "import pytraj as pt\n",
    "import nglview as nv\n",
    "\n",
    "import matplotlib\n",
    "from matplotlib import pyplot as plt\n",
    "\n",
    "import cphmdanalysis as cphmda\n",
    "import ipywidgets as widgets\n",
    "from ipywidgets import interact, interact_manual"
   ]
  },
  {
   "cell_type": "code",
   "execution_count": 28,
   "metadata": {},
   "outputs": [
    {
     "name": "stdout",
     "output_type": "stream",
     "text": [
      "Total Number of Residues:  96 \n",
      "Number of succesfully titrated residues:  70 \n",
      "Number of unsuccesfully titrated residues:  26\n"
     ]
    },
    {
     "name": "stderr",
     "output_type": "stream",
     "text": [
      "/Users/wbotellosmith/anaconda2/envs/py3/lib/python3.7/site-packages/pandas/core/ops.py:1649: FutureWarning: elementwise comparison failed; returning scalar instead, but in the future will perform elementwise comparison\n",
      "  result = method(y)\n"
     ]
    },
    {
     "data": {
      "text/html": [
       "<div>\n",
       "<style scoped>\n",
       "    .dataframe tbody tr th:only-of-type {\n",
       "        vertical-align: middle;\n",
       "    }\n",
       "\n",
       "    .dataframe tbody tr th {\n",
       "        vertical-align: top;\n",
       "    }\n",
       "\n",
       "    .dataframe thead th {\n",
       "        text-align: right;\n",
       "    }\n",
       "</style>\n",
       "<table border=\"1\" class=\"dataframe\">\n",
       "  <thead>\n",
       "    <tr style=\"text-align: right;\">\n",
       "      <th></th>\n",
       "      <th>ResName</th>\n",
       "      <th>Resid</th>\n",
       "      <th>PDB_Resid</th>\n",
       "      <th>Predicted_pKa</th>\n",
       "      <th>Hill_Coef</th>\n",
       "      <th>Standard_pKa</th>\n",
       "      <th>Delta_pKa</th>\n",
       "    </tr>\n",
       "  </thead>\n",
       "  <tbody>\n",
       "    <tr>\n",
       "      <th>0</th>\n",
       "      <td>AS2</td>\n",
       "      <td>6</td>\n",
       "      <td>177</td>\n",
       "      <td>2.659</td>\n",
       "      <td>0.458</td>\n",
       "      <td>3.71</td>\n",
       "      <td>-1.051</td>\n",
       "    </tr>\n",
       "    <tr>\n",
       "      <th>1</th>\n",
       "      <td>AS2</td>\n",
       "      <td>11</td>\n",
       "      <td>182</td>\n",
       "      <td>2.696</td>\n",
       "      <td>0.635</td>\n",
       "      <td>3.71</td>\n",
       "      <td>-1.014</td>\n",
       "    </tr>\n",
       "    <tr>\n",
       "      <th>2</th>\n",
       "      <td>AS2</td>\n",
       "      <td>14</td>\n",
       "      <td>185</td>\n",
       "      <td>3.446</td>\n",
       "      <td>2.126</td>\n",
       "      <td>3.71</td>\n",
       "      <td>-0.264</td>\n",
       "    </tr>\n",
       "    <tr>\n",
       "      <th>3</th>\n",
       "      <td>HIP</td>\n",
       "      <td>15</td>\n",
       "      <td>186</td>\n",
       "      <td>6.628</td>\n",
       "      <td>0.364</td>\n",
       "      <td>6.04</td>\n",
       "      <td>0.588</td>\n",
       "    </tr>\n",
       "    <tr>\n",
       "      <th>4</th>\n",
       "      <td>CYS</td>\n",
       "      <td>17</td>\n",
       "      <td>188</td>\n",
       "      <td>11.429</td>\n",
       "      <td>0.305</td>\n",
       "      <td>8.14</td>\n",
       "      <td>3.289</td>\n",
       "    </tr>\n",
       "  </tbody>\n",
       "</table>\n",
       "</div>"
      ],
      "text/plain": [
       "  ResName  Resid  PDB_Resid Predicted_pKa Hill_Coef  Standard_pKa  Delta_pKa\n",
       "0     AS2      6        177         2.659     0.458          3.71     -1.051\n",
       "1     AS2     11        182         2.696     0.635          3.71     -1.014\n",
       "2     AS2     14        185         3.446     2.126          3.71     -0.264\n",
       "3     HIP     15        186         6.628     0.364          6.04      0.588\n",
       "4     CYS     17        188        11.429     0.305          8.14      3.289"
      ]
     },
     "execution_count": 28,
     "metadata": {},
     "output_type": "execute_result"
    }
   ],
   "source": [
    "nRuns=2\n",
    "runs=np.arange(2)\n",
    "sysName='R206H'\n",
    "with open('pH_List.txt','r') as pHlistFile:\n",
    "    rep_pH_vals=list(map(float,pHlistFile.readline().split(', ')))\n",
    "phList=rep_pH_vals*nRuns\n",
    "nReps=len(rep_pH_vals)\n",
    "lambdaFileNames=['rep%02g.%02g.lambda'%(\n",
    "                    #sysName,\n",
    "                    irep+1,irun) \\\n",
    "                 for irun in runs \\\n",
    "                 for irep in np.arange(len(rep_pH_vals))]\n",
    "lambdaFiles=[cphmda.lambda_file(filename) for filename in lambdaFileNames]\n",
    "\n",
    "for lambda_file in lambdaFiles:\n",
    "    lambda_file.compute_s_values()\n",
    "\n",
    "pka_data=cphmda.compute_pkas(phList,lambdaFiles) #wrapped_lambda_files)\n",
    "\n",
    "tempStruc=pt.load('%s.min.rst7'%sysName,top='%s.parm7'%sysName)\n",
    "orig_struc=pt.load(\"../../../structures/WT.pdb\")\n",
    "\n",
    "standard_pKa_dict={\n",
    "    \"AS2\":3.71,\"GL2\":4.15,\"HIP\":6.04,\"CYS\":8.14,\"LYS\":10.67}\n",
    "\n",
    "pKaTable=pd.DataFrame([(tempStruc.top.residue(res-1).name,\n",
    " (tempStruc.top.residue(res-1)).original_resid,\n",
    " (orig_struc.top.residue(res-1)).original_resid,\n",
    "  \"%.3f\"%(\n",
    "      pka_data[ires][2]),\n",
    "  \"%.3f\"%(\n",
    "      pka_data[ires][0])) for ires,res in enumerate(lambdaFiles[0].titrreses)],\n",
    "            columns=['ResName','Resid','PDB_Resid','Predicted_pKa','Hill_Coef'])\n",
    "pKaTable[\"Standard_pKa\"]=pKaTable.ResName.apply(\n",
    "    lambda x: standard_pKa_dict[x])\n",
    "pKaTable[\"Delta_pKa\"]=pd.Series(pKaTable.Predicted_pKa,dtype=float)- \\\n",
    "    pd.Series(pKaTable.Standard_pKa,dtype=float)\n",
    "pKaTable.to_csv('pKa_DataTable.csv',index=False)\n",
    "goodRows=np.sum((pKaTable.dropna().Standard_pKa!='nan'))\n",
    "totalRows=pKaTable.shape[0]\n",
    "print('Total Number of Residues: ',\n",
    "      totalRows,\n",
    "      '\\nNumber of succesfully titrated residues: ',\n",
    "      goodRows,\n",
    "      '\\nNumber of unsuccesfully titrated residues: ',\n",
    "      totalRows-goodRows)\n",
    "pKaTable.head()"
   ]
  },
  {
   "cell_type": "code",
   "execution_count": 29,
   "metadata": {
    "scrolled": false
   },
   "outputs": [
    {
     "data": {
      "application/vnd.jupyter.widget-view+json": {
       "model_id": "b51867afd50042b5bf081e4b1e946b77",
       "version_major": 2,
       "version_minor": 0
      },
      "text/plain": [
       "interactive(children=(Text(value='HIP CYS LYS', description='resList'), Checkbox(value=True, description='drop…"
      ]
     },
     "metadata": {},
     "output_type": "display_data"
    }
   ],
   "source": [
    "@interact_manual\n",
    "def show_residue_titration_data(\n",
    "    resList=\"HIP CYS LYS\",\n",
    "    dropIncompleteRows=True,\n",
    "    showStandard_pKa=True,\n",
    "    showHillCoef=True,\n",
    "    useHillScore=False,\n",
    "    hillScoreCut=(0,1,.01),\n",
    "    sortColumns='Delta',\n",
    "    ascendSort=True,\n",
    "    absDeltaCut=(0,5,.05)):\n",
    "    outFrame=pKaTable[pKaTable.ResName.isin(resList.split())][np.concatenate([\n",
    "        ['ResName','PDB_Resid'],\n",
    "        [colname for colname in pKaTable.columns \\\n",
    "         if ('Predicted_pKa' in colname) | ('Hill' in colname) | ('Standard' in colname)]])]\n",
    "    outFrame['Delta']=outFrame['Predicted_pKa'].map(float)-outFrame['Standard_pKa'].map(float)\n",
    "    outFrame['Hill_Coef']=outFrame.Hill_Coef.map(lambda x: float(x))\n",
    "    if dropIncompleteRows:\n",
    "        outFrame=outFrame.dropna()\n",
    "    if absDeltaCut > 0.0:\n",
    "        outFrame=outFrame[outFrame.Delta.abs()>absDeltaCut]\n",
    "    if useHillScore:\n",
    "        if hillScoreCut > 0.0:\n",
    "            outFrame['Hill_Check']=0\n",
    "        for colName in outFrame.columns:\n",
    "            if 'Hill' in colName:\n",
    "                outFrame[colName]=1.0/np.exp(np.abs(np.log(outFrame[colName])))\n",
    "                if hillScoreCut > 0.0:\n",
    "                    outFrame.Hill_Check=outFrame.Hill_Check + outFrame[colName]>hillScoreCut\n",
    "        if hillScoreCut > 0.0:\n",
    "            outFrame=outFrame[outFrame.Hill_Check > 0]\n",
    "            outFrame=outFrame[outFrame.columns[:-1]]\n",
    "    outFrame=outFrame.sort_values(sortColumns.split(),ascending=ascendSort)\n",
    "    if not showStandard_pKa:\n",
    "        outFrame=outFrame[[\n",
    "            colName for colName in outFrame.columns \\\n",
    "            if not ('Standard' in colName)]]\n",
    "    if not showHillCoef:\n",
    "        outFrame=outFrame[[\n",
    "            colName for colName in outFrame.columns \\\n",
    "            if not ('Hill' in colName)]]\n",
    "    return outFrame"
   ]
  },
  {
   "cell_type": "code",
   "execution_count": null,
   "metadata": {
    "scrolled": true
   },
   "outputs": [],
   "source": []
  }
 ],
 "metadata": {
  "kernelspec": {
   "display_name": "Python 3",
   "language": "python",
   "name": "python3"
  },
  "language_info": {
   "codemirror_mode": {
    "name": "ipython",
    "version": 3
   },
   "file_extension": ".py",
   "mimetype": "text/x-python",
   "name": "python",
   "nbconvert_exporter": "python",
   "pygments_lexer": "ipython3",
   "version": "3.7.3"
  }
 },
 "nbformat": 4,
 "nbformat_minor": 2
}
