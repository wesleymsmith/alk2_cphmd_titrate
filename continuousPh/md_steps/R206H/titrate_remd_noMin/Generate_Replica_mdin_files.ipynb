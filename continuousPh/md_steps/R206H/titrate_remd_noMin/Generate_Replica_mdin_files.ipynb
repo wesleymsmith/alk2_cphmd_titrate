{
 "cells": [
  {
   "cell_type": "code",
   "execution_count": 1,
   "metadata": {},
   "outputs": [],
   "source": [
    "import numpy as np\n",
    "import f90nml as nml\n",
    "import sys\n",
    "import tqdm"
   ]
  },
  {
   "cell_type": "code",
   "execution_count": 5,
   "metadata": {},
   "outputs": [
    {
     "data": {
      "text/plain": [
       "Namelist([('cntrl',\n",
       "           Namelist([('imin', 0),\n",
       "                     ('irest', 0),\n",
       "                     ('ntx', 1),\n",
       "                     ('ntpr', 1000),\n",
       "                     ('ntwx', 1000),\n",
       "                     ('numexchg', 200),\n",
       "                     ('nstlim', 5000),\n",
       "                     ('dt', 0.002),\n",
       "                     ('ntt', 3),\n",
       "                     ('tempi', 300),\n",
       "                     ('temp0', 300),\n",
       "                     ('tautp', 2.0),\n",
       "                     ('ig', -1),\n",
       "                     ('ntp', 0),\n",
       "                     ('ntc', 2),\n",
       "                     ('ntf', 2),\n",
       "                     ('cut', 999),\n",
       "                     ('ntb', 0),\n",
       "                     ('igb', 8),\n",
       "                     ('saltcon', 0.15),\n",
       "                     ('nrespa', 1),\n",
       "                     ('iphmd', 1),\n",
       "                     ('gamma_ln', 1.0),\n",
       "                     ('solvph', 'PH'),\n",
       "                     ('ntwr', 250000),\n",
       "                     ('ioutfm', 1)]))])"
      ]
     },
     "execution_count": 5,
     "metadata": {},
     "output_type": "execute_result"
    }
   ],
   "source": [
    "nmlFile=nml.read('template_rex.in')\n",
    "nmlFile"
   ]
  },
  {
   "cell_type": "code",
   "execution_count": 6,
   "metadata": {},
   "outputs": [
    {
     "data": {
      "application/vnd.jupyter.widget-view+json": {
       "model_id": "461cdfd8855243138a025d527a88c8b7",
       "version_major": 2,
       "version_minor": 0
      },
      "text/plain": [
       "HBox(children=(IntProgress(value=1, bar_style=u'info', max=1), HTML(value=u'')))"
      ]
     },
     "metadata": {},
     "output_type": "display_data"
    },
    {
     "name": "stdout",
     "output_type": "stream",
     "text": [
      "\n"
     ]
    }
   ],
   "source": [
    "sysName='R206H'\n",
    "phMin=2\n",
    "phMax=12\n",
    "nReps=20\n",
    "solv_pH_list=np.linspace(phMin,phMax,nReps)\n",
    "with open('pH_List.txt','w') as pHfile:\n",
    "    pHfile.write(\n",
    "            ', '.join([\n",
    "                '%.3f'%phVal for phVal in solv_pH_list]) )\n",
    "nmlRootEntry='cntrl'\n",
    "nmlSubEntry='solvph'\n",
    "for iRep,solv_pH in tqdm.tqdm_notebook(enumerate(solv_pH_list)):\n",
    "    nmlFile[nmlRootEntry][nmlSubEntry]=solv_pH\n",
    "    nmlFileName='%s.rep%02g.in'%(sysName,iRep+1)\n",
    "    nmlFile.write(nmlFileName,force=True)\n",
    "    with open(nmlFileName, 'r+') as fp:\n",
    "        lines = fp.readlines()     # lines is list of line, each element '...\\n'\n",
    "        lines.insert(\n",
    "            0, \n",
    "            nmlFileName+' md input file, ph = %.3f\\n'%solv_pH)  \n",
    "        fp.seek(0)                 # file pointer locates at the beginning to write the whole file again\n",
    "        fp.writelines(lines)       # write whole lists again to the same file\n"
   ]
  },
  {
   "cell_type": "code",
   "execution_count": null,
   "metadata": {},
   "outputs": [],
   "source": []
  }
 ],
 "metadata": {
  "kernelspec": {
   "display_name": "Python 2",
   "language": "python",
   "name": "python2"
  },
  "language_info": {
   "codemirror_mode": {
    "name": "ipython",
    "version": 2
   },
   "file_extension": ".py",
   "mimetype": "text/x-python",
   "name": "python",
   "nbconvert_exporter": "python",
   "pygments_lexer": "ipython2",
   "version": "2.7.16"
  }
 },
 "nbformat": 4,
 "nbformat_minor": 2
}
