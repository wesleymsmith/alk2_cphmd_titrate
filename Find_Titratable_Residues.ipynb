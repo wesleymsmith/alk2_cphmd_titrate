{
 "cells": [
  {
   "cell_type": "code",
   "execution_count": 193,
   "metadata": {},
   "outputs": [],
   "source": [
    "import pytraj as pt\n",
    "import numpy as np\n",
    "import nglview as nv\n",
    "import pandas as pd"
   ]
  },
  {
   "cell_type": "markdown",
   "metadata": {},
   "source": [
    "We are interested in titrating all LYS, HIS, and CYS residues as well as the ASP residue in the R-D lock.\n",
    "\n",
    "We know that the original PDB IDs of the ARG and ASP in the R-D lock are 375 and 354 respectively\n",
    "\n",
    "First, lets view the structure with NGLVIEW and mark the R-D saltbridge residues.\n",
    "\n",
    "The image is embedded here in case you are unable to use nglview as below\n",
    "\n",
    "<img src=\"RD_lock_residues.png\" height=\"360\" width=\"480\" alt=\"Screenshot of RD lock\">"
   ]
  },
  {
   "cell_type": "code",
   "execution_count": 165,
   "metadata": {},
   "outputs": [
    {
     "data": {
      "application/vnd.jupyter.widget-view+json": {
       "model_id": "7a95d543a2e44f47acf2cb93e19fe36f",
       "version_major": 2,
       "version_minor": 0
      },
      "text/plain": [
       "NGLWidget()"
      ]
     },
     "metadata": {},
     "output_type": "display_data"
    }
   ],
   "source": [
    "struc=pt.load('structures/R206H.pdb',\n",
    "              top='structures/step2_solvator.psf')\n",
    "view=nv.show_pytraj(struc)\n",
    "view.clear_representations()\n",
    "view.add_representation('cartoon')\n",
    "view.add_representation('ball+stick',selection='.CA')\n",
    "view.add_representation('ball+stick',selection='[ARG] and 375')\n",
    "view.add_representation('ball+stick',selection='[ASP] and 354')\n",
    "view"
   ]
  },
  {
   "cell_type": "markdown",
   "metadata": {},
   "source": [
    "Rather than hunting all the HIS, LYS, and CYS residues down visually and jotting them down,\n",
    "we can get pytraj and pandas to the gruntwork for us.\n",
    "\n",
    "We will work off of the charmm-gui psf to build a residue info table using pandas and the\n",
    "resinfo command."
   ]
  },
  {
   "cell_type": "code",
   "execution_count": 194,
   "metadata": {},
   "outputs": [
    {
     "name": "stdout",
     "output_type": "stream",
     "text": [
      "pytraj.Trajectory, 1 frames: \n",
      "Size: 0.000000 (GB)\n",
      "<Topology: 143628 atoms, 46195 residues, 45762 mols, non-PBC>\n",
      "           \n"
     ]
    },
    {
     "data": {
      "text/html": [
       "<div>\n",
       "<style scoped>\n",
       "    .dataframe tbody tr th:only-of-type {\n",
       "        vertical-align: middle;\n",
       "    }\n",
       "\n",
       "    .dataframe tbody tr th {\n",
       "        vertical-align: top;\n",
       "    }\n",
       "\n",
       "    .dataframe thead th {\n",
       "        text-align: right;\n",
       "    }\n",
       "</style>\n",
       "<table border=\"1\" class=\"dataframe\">\n",
       "  <thead>\n",
       "    <tr style=\"text-align: right;\">\n",
       "      <th></th>\n",
       "      <th>Res</th>\n",
       "      <th>Name</th>\n",
       "      <th>First</th>\n",
       "      <th>Last</th>\n",
       "      <th>Natom</th>\n",
       "      <th>Orig</th>\n",
       "      <th>Mol</th>\n",
       "    </tr>\n",
       "  </thead>\n",
       "  <tbody>\n",
       "    <tr>\n",
       "      <th>0</th>\n",
       "      <td>1</td>\n",
       "      <td>THR</td>\n",
       "      <td>1</td>\n",
       "      <td>16</td>\n",
       "      <td>16</td>\n",
       "      <td>172</td>\n",
       "      <td>1</td>\n",
       "    </tr>\n",
       "    <tr>\n",
       "      <th>1</th>\n",
       "      <td>2</td>\n",
       "      <td>THR</td>\n",
       "      <td>17</td>\n",
       "      <td>30</td>\n",
       "      <td>14</td>\n",
       "      <td>173</td>\n",
       "      <td>1</td>\n",
       "    </tr>\n",
       "    <tr>\n",
       "      <th>2</th>\n",
       "      <td>3</td>\n",
       "      <td>ASN</td>\n",
       "      <td>31</td>\n",
       "      <td>44</td>\n",
       "      <td>14</td>\n",
       "      <td>174</td>\n",
       "      <td>1</td>\n",
       "    </tr>\n",
       "    <tr>\n",
       "      <th>3</th>\n",
       "      <td>4</td>\n",
       "      <td>VAL</td>\n",
       "      <td>45</td>\n",
       "      <td>60</td>\n",
       "      <td>16</td>\n",
       "      <td>175</td>\n",
       "      <td>1</td>\n",
       "    </tr>\n",
       "    <tr>\n",
       "      <th>4</th>\n",
       "      <td>5</td>\n",
       "      <td>GLY</td>\n",
       "      <td>61</td>\n",
       "      <td>67</td>\n",
       "      <td>7</td>\n",
       "      <td>176</td>\n",
       "      <td>1</td>\n",
       "    </tr>\n",
       "  </tbody>\n",
       "</table>\n",
       "</div>"
      ],
      "text/plain": [
       "  Res Name First Last Natom Orig Mol\n",
       "0   1  THR     1   16    16  172   1\n",
       "1   2  THR    17   30    14  173   1\n",
       "2   3  ASN    31   44    14  174   1\n",
       "3   4  VAL    45   60    16  175   1\n",
       "4   5  GLY    61   67     7  176   1"
      ]
     },
     "execution_count": 194,
     "metadata": {},
     "output_type": "execute_result"
    }
   ],
   "source": [
    "pdbStruc=pt.load('structures/R206H.pdb',top='structures/step2_solvator.psf')\n",
    "print pdbStruc\n",
    "resinfoDat=pt.resinfo(pdbStruc.top,'resinfo @CA',pdbStruc[0],task='resinfo').split('\\n')\n",
    "resinfoList=[tuple(infoLine.split()) for infoLine in resinfoDat[1:] if len(infoLine.split())>0]\n",
    "resinfoHeader=resinfoDat[0].replace('#','').split()\n",
    "resinfoFrame=pd.DataFrame(resinfoList,columns=resinfoHeader)\n",
    "resinfoFrame.head()"
   ]
  },
  {
   "cell_type": "markdown",
   "metadata": {},
   "source": [
    "Now that we have the residue information for all protein residues in data frame form,\n",
    "we can easily query the appropriate residues.\n",
    "\n",
    "For cpinutil.py we will need to get the corresponding entries of the 'Res' column,\n",
    "which corresponds to the ordering that cpptraj / pytraj will put them in... which\n",
    "is also the order that tleap will put them in as well."
   ]
  },
  {
   "cell_type": "code",
   "execution_count": 197,
   "metadata": {},
   "outputs": [
    {
     "name": "stdout",
     "output_type": "stream",
     "text": [
      "found 48 titrateable residue entries\n",
      "--- top 5 rows of titratable residue table ---\n",
      "   Res Name First Last Natom Orig Mol\n",
      "14  15  HSD   196  212    17  186   1\n",
      "16  17  CYS   224  234    11  188   1\n",
      "34  35  HSD   472  488    17  206   1\n",
      "41  42  CYS   592  602    11  213   1\n",
      "44  45  LYS   626  647    22  216   1\n"
     ]
    },
    {
     "data": {
      "text/plain": [
       "'15 17 35 42 45 64 72 88 103 113 115 134 147 149 158 163 167 169 174 175 179 180 183 190 208 224 229 257 275 278 301 304 306 321 322 326 345 350 353 362 363 372 375 380 401 415 422 433'"
      ]
     },
     "execution_count": 197,
     "metadata": {},
     "output_type": "execute_result"
    }
   ],
   "source": [
    "titratable_residues_table=resinfoFrame[\n",
    "    (resinfoFrame.Name.isin(['LYS','CYS','HSD','HIP','HIS'])) |\n",
    "    (pd.Series(resinfoFrame.Orig,dtype=int)==354)]\n",
    "print 'found %g titrateable residue entries'%(titratable_residues_table.shape[0])\n",
    "print '--- top 5 rows of titratable residue table ---'\n",
    "print titratable_residues_table.head()\n",
    "titratable_residues_table.to_csv('titratable_residues_table.csv',index=False)\n",
    "np.savetxt('titrate_res_list.txt',np.array(titratable_residues_table.Res,dtype=int))\n",
    "' '.join(np.array(titratable_residues_table.Res,dtype=str))"
   ]
  },
  {
   "cell_type": "code",
   "execution_count": null,
   "metadata": {},
   "outputs": [],
   "source": []
  }
 ],
 "metadata": {
  "kernelspec": {
   "display_name": "Python 2",
   "language": "python",
   "name": "python2"
  },
  "language_info": {
   "codemirror_mode": {
    "name": "ipython",
    "version": 2
   },
   "file_extension": ".py",
   "mimetype": "text/x-python",
   "name": "python",
   "nbconvert_exporter": "python",
   "pygments_lexer": "ipython2",
   "version": "2.7.16"
  }
 },
 "nbformat": 4,
 "nbformat_minor": 2
}
